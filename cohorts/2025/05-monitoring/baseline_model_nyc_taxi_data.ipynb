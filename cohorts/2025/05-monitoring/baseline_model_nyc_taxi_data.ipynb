{
 "cells": [
  {
   "cell_type": "markdown",
   "id": "7bf05e7e",
   "metadata": {},
   "source": [
    "# Baseline model for batch monitoring example"
   ]
  },
  {
   "cell_type": "code",
   "execution_count": null,
   "id": "7320039b",
   "metadata": {},
   "outputs": [],
   "source": [
    "import requests\n",
    "import pandas as pd\n",
    "from tqdm import tqdm"
   ]
  },
  {
   "cell_type": "code",
   "execution_count": null,
   "id": "ebcd8eb5",
   "metadata": {},
   "outputs": [
    {
     "name": "stderr",
     "output_type": "stream",
     "text": [
      "green_tripdata_2024-03.parquet: 100%|██████████| 1372372/1372372 [00:06<00:00, 218141.67it/s, save to ./data/green_tripdata_2024-03.parquet]\n"
     ]
    }
   ],
   "source": [
    "url = f\"https://d37ci6vzurychx.cloudfront.net/trip-data/green_tripdata_2024-03.parquet\"\n",
    "resp = requests.get(url, stream=True)\n",
    "save_path = \"./data/green_tripdata_2024-03.parquet\"\n",
    "with open(save_path, \"wb\") as handle:\n",
    "    for data in tqdm(resp.iter_content(),\n",
    "                    desc=\"green_tripdata_2024-03.parquet\",\n",
    "                    postfix=f\"save to {save_path}\",\n",
    "                    total=int(resp.headers[\"Content-Length\"])):\n",
    "        handle.write(data)"
   ]
  },
  {
   "cell_type": "code",
   "execution_count": 30,
   "id": "6735ae38",
   "metadata": {},
   "outputs": [
    {
     "data": {
      "text/plain": [
       "(57457, 20)"
      ]
     },
     "execution_count": 30,
     "metadata": {},
     "output_type": "execute_result"
    }
   ],
   "source": [
    "mar_data = pd.read_parquet('data/green_tripdata_2024-03.parquet')\n",
    "mar_data.shape"
   ]
  },
  {
   "cell_type": "code",
   "execution_count": 32,
   "id": "ca38fb97",
   "metadata": {},
   "outputs": [
    {
     "data": {
      "text/plain": [
       "14.2"
      ]
     },
     "execution_count": 32,
     "metadata": {},
     "output_type": "execute_result"
    }
   ],
   "source": [
    "# create target\n",
    "mar_data[\"duration_min\"] = mar_data.lpep_dropoff_datetime - mar_data.lpep_pickup_datetime\n",
    "mar_data.duration_min = mar_data.duration_min.apply(lambda td : float(td.total_seconds())/60)\n",
    "\n",
    "# filter out outliers\n",
    "mar_data = mar_data[(mar_data.duration_min >= 0) & (mar_data.duration_min <= 60)]\n",
    "mar_data = mar_data[(mar_data.passenger_count > 0) & (mar_data.passenger_count <= 8)]\n",
    "mar_data = mar_data[\n",
    "    (mar_data['lpep_pickup_datetime'] >= '2024-03-01') &\n",
    "    (mar_data['lpep_pickup_datetime'] < '2024-04-01')\n",
    "]\n",
    "\n",
    "mar_data['lpep_pickup_datetime'] = pd.to_datetime(mar_data['lpep_pickup_datetime'])\n",
    "daily_medians = mar_data.groupby(mar_data['lpep_pickup_datetime'].dt.date)['fare_amount'].median()\n",
    "max(daily_medians)"
   ]
  }
 ],
 "metadata": {
  "kernelspec": {
   "display_name": "mlops",
   "language": "python",
   "name": "python3"
  },
  "language_info": {
   "codemirror_mode": {
    "name": "ipython",
    "version": 3
   },
   "file_extension": ".py",
   "mimetype": "text/x-python",
   "name": "python",
   "nbconvert_exporter": "python",
   "pygments_lexer": "ipython3",
   "version": "3.10.13"
  }
 },
 "nbformat": 4,
 "nbformat_minor": 5
}
