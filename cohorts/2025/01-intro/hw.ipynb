{
 "cells": [
  {
   "cell_type": "code",
   "execution_count": null,
   "id": "ac7ebfc4",
   "metadata": {},
   "outputs": [],
   "source": [
    "import pandas as pd\n",
    "import numpy as np\n",
    "from sklearn.feature_extraction import DictVectorizer\n",
    "from sklearn.linear_model import LinearRegression\n",
    "from sklearn.metrics import root_mean_squared_error"
   ]
  },
  {
   "cell_type": "code",
   "execution_count": null,
   "id": "91817bd2",
   "metadata": {},
   "outputs": [],
   "source": [
    "# Q1. Downloading the data\n",
    "df = pd.read_parquet('./data/yellow_tripdata_2023-01.parquet')\n",
    "df"
   ]
  },
  {
   "cell_type": "code",
   "execution_count": null,
   "id": "bb8af608",
   "metadata": {},
   "outputs": [],
   "source": [
    "# Q2. Computing duration\n",
    "df[\"duration\"] = df[\"tpep_dropoff_datetime\"] - df[\"tpep_pickup_datetime\"]\n",
    "df[\"duration\"] = df[\"duration\"].apply(lambda td: td.total_seconds() / 60)\n",
    "np.std(df[\"duration\"])"
   ]
  },
  {
   "cell_type": "code",
   "execution_count": null,
   "id": "59138410",
   "metadata": {},
   "outputs": [],
   "source": [
    "# Q3. Dropping outliers\n",
    "new_df = df[(df[\"duration\"] >= 1) & (df[\"duration\"] <= 60)]\n",
    "len(new_df)/len(df)*100"
   ]
  },
  {
   "cell_type": "code",
   "execution_count": null,
   "id": "f9d06537",
   "metadata": {},
   "outputs": [],
   "source": [
    "# Q4. One-hot encoding\n",
    "features = [\"PULocationID\", \"DOLocationID\"]\n",
    "new_df[features] = new_df[features].astype(str)\n",
    "\n",
    "train_dicts = new_df[features].to_dict(orient='records')\n",
    "\n",
    "dv = DictVectorizer()\n",
    "X_train = dv.fit_transform(train_dicts)\n",
    "X_train.shape"
   ]
  },
  {
   "cell_type": "code",
   "execution_count": null,
   "id": "c363a58b",
   "metadata": {},
   "outputs": [],
   "source": [
    "# Q5. Training a model\n",
    "y_train = new_df[\"duration\"].values\n",
    "\n",
    "lr = LinearRegression()\n",
    "lr.fit(X_train, y_train)\n",
    "\n",
    "y_pred = lr.predict(X_train)\n",
    "\n",
    "root_mean_squared_error(y_train, y_pred)"
   ]
  },
  {
   "cell_type": "code",
   "execution_count": null,
   "id": "aa932ee5",
   "metadata": {},
   "outputs": [],
   "source": [
    "# Q6. Evaluating the model\n",
    "df_valid = pd.read_parquet('./data/yellow_tripdata_2023-02.parquet')\n",
    "df_valid[\"duration\"] = df_valid[\"tpep_dropoff_datetime\"] - df_valid[\"tpep_pickup_datetime\"]\n",
    "df_valid[\"duration\"] = df_valid[\"duration\"].apply(lambda td: td.total_seconds() / 60)\n",
    "df_valid = df_valid[(df_valid[\"duration\"] >= 1) & (df_valid[\"duration\"] <= 60)]\n",
    "df_valid[features] = df_valid[features].astype(str)\n",
    "valid_dicts = df_valid[features].to_dict(orient='records')"
   ]
  },
  {
   "cell_type": "code",
   "execution_count": null,
   "id": "f9db4c1e",
   "metadata": {},
   "outputs": [],
   "source": [
    "X_valid = dv.fit_transform(valid_dicts)\n",
    "y_valid = df_valid[\"duration\"].values\n",
    "y_pred = lr.predict(X_valid)\n",
    "\n",
    "root_mean_squared_error(y_valid, y_pred)"
   ]
  }
 ],
 "metadata": {
  "kernelspec": {
   "display_name": "pytorchenv",
   "language": "python",
   "name": "python3"
  },
  "language_info": {
   "codemirror_mode": {
    "name": "ipython",
    "version": 3
   },
   "file_extension": ".py",
   "mimetype": "text/x-python",
   "name": "python",
   "nbconvert_exporter": "python",
   "pygments_lexer": "ipython3",
   "version": "3.9.16"
  }
 },
 "nbformat": 4,
 "nbformat_minor": 5
}
